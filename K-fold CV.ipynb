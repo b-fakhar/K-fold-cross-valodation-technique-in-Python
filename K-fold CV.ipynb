{
 "cells": [
  {
   "cell_type": "markdown",
   "metadata": {},
   "source": [
    "## Table of  Contents\n",
    "1. [Import library/module](#1)\n",
    "1. [Test Case](#2)\n",
    "    1. [Creat Random Test Case](#21)\n",
    "    1. [Test Case (1)](#22)\n",
    "    1. [Test Case (2)](#23)\n",
    "    1. [Test Case (3)](#24)\n",
    "1. [K-fold Cross Validation](#3)\n",
    "1. [Output](#4)"
   ]
  },
  {
   "cell_type": "markdown",
   "metadata": {},
   "source": [
    "## <a id='1'>1. Import library/module</a>  "
   ]
  },
  {
   "cell_type": "code",
   "execution_count": 1,
   "metadata": {},
   "outputs": [],
   "source": [
    "import numpy as np\n",
    "import random\n",
    "import math"
   ]
  },
  {
   "cell_type": "markdown",
   "metadata": {},
   "source": [
    "## <a id='2'>2. Test Case</a>  "
   ]
  },
  {
   "cell_type": "markdown",
   "metadata": {},
   "source": [
    "### <a id='21'>A. Creat Random Test Case</a>  "
   ]
  },
  {
   "cell_type": "code",
   "execution_count": 2,
   "metadata": {},
   "outputs": [],
   "source": [
    "# Uncomment the following lines to intitialize input array and K.\n",
    "\n",
    "# # random.seed(10)\n",
    "\n",
    "# # Maximum idx_arr is 100,000.\n",
    "# idx_arr = 30 \n",
    "# # Maximum idx_N is 100.\n",
    "# idx_N = 20\n",
    "\n",
    "# # Input array\n",
    "# arr = random.sample(range(0,idx_arr),random.randint(2,idx_N))\n",
    "# # Input array length\n",
    "# N = len(arr)\n",
    "# # Number of folds\n",
    "# K = random.randint(2,N)\n",
    "\n",
    "# print('Input array:', arr)\n",
    "# print('Length of input=', N)\n",
    "# print('K =', K)\n",
    "\n",
    "# # print('jump =', int(np.ceil(N/K)))\n",
    "# # print('rem =', N%K)\n",
    "# # print('jump-rem =', abs(int(np.ceil(N/K)) - N%K))"
   ]
  },
  {
   "cell_type": "markdown",
   "metadata": {},
   "source": [
    "### <a id='22'>B. Test Case (1)</a>  "
   ]
  },
  {
   "cell_type": "code",
   "execution_count": 3,
   "metadata": {},
   "outputs": [],
   "source": [
    "# Inputs for Test Case 1:\n",
    "\n",
    "arr_TC1 = [28, 4, 18, 23, 24, 9, 21, 27, 20, 26, 16, 17, 12]\n",
    "N_TC1 = 13\n",
    "K_TC1 = 5"
   ]
  },
  {
   "cell_type": "markdown",
   "metadata": {},
   "source": [
    "### <a id='23'>C. Test Case (2)</a>  "
   ]
  },
  {
   "cell_type": "code",
   "execution_count": 4,
   "metadata": {},
   "outputs": [],
   "source": [
    "# Inputs for Test Case 2:\n",
    "\n",
    "arr_TC2 = [21, 14, 11, 13, 10, 17, 7, 25, 24, 12, 1, 0, 15, 28]\n",
    "N__TC2 = 14\n",
    "K_TC2 = 4"
   ]
  },
  {
   "cell_type": "markdown",
   "metadata": {},
   "source": [
    "### <a id='24'>D. Test Case (3)</a>  "
   ]
  },
  {
   "cell_type": "code",
   "execution_count": 5,
   "metadata": {},
   "outputs": [],
   "source": [
    "# Inputs for Test Case 3:\n",
    "\n",
    "arr_TC3 = [12, 22, 3, 8, 1, 5, 29, 17, 21, 27, 4, 16, 7, 26, 28, 25, 0]\n",
    "N_TC3 = 17\n",
    "K_TC3 = 3"
   ]
  },
  {
   "cell_type": "markdown",
   "metadata": {},
   "source": [
    "## <a id='3'>3. K-fold Cross Validation</a>  "
   ]
  },
  {
   "cell_type": "code",
   "execution_count": 6,
   "metadata": {},
   "outputs": [],
   "source": [
    "def print_cross_val(folds):\n",
    "    '''\n",
    "    This is an  inner function for \"get_cross_val_split\".\n",
    "    input:\n",
    "        folds: An array of K arrays of folds.\n",
    "    \n",
    "    return: An array that contains the final arrays of training and testing folds (J-th training indices and J-th testing \n",
    "    indices are stored respectively as its 2*J and 2*J+1 elements).\n",
    "    '''\n",
    "    output = []\n",
    "    # In this for loop, J-th training indices and J-th testing indices are stored in the output.\n",
    "    for index in range(len(folds)):\n",
    "        temp = []\n",
    "        for idx, val in enumerate(np.roll(folds,index).tolist()):\n",
    "            if idx != len(np.roll(folds,index).tolist())-1:\n",
    "                # This section builds the training set from folds.\n",
    "                temp += val\n",
    "            else:\n",
    "                # This section builds training and testing folds.\n",
    "                output += [temp]\n",
    "                output += [val]       \n",
    "    return output\n",
    "       \n",
    "    \n",
    "def get_cross_val_split(array, K, max_diff=1):\n",
    "    arr = array.copy()\n",
    "    '''\n",
    "    inputs:\n",
    "        arr: An array of integers indices, which contains the indices of elements in data sample.\n",
    "        K: An integer which, refers to the number of folds.\n",
    "        max_diff: The maximum size difference of the pairs of testing sets. max_diff defult value is one.\n",
    "        \n",
    "    return: return: An array that contains the arrays of folds (J-th training indices and J-th testing indices are stored \n",
    "    respectively as its 2*J and 2*J+1 elements).\n",
    "    '''\n",
    "    # Here, an empty dictionary is created, where its keys associated with the number of Folds (K).\n",
    "    folds = {}\n",
    "    for index in range(K):\n",
    "        folds[str(index)] = []\n",
    "    # The empty dictionary is populated by one by one inserting indices until no index is left in the input array.    \n",
    "    index = 0\n",
    "    while len(arr) != 0:\n",
    "        folds[str(index)].append(arr[-1])\n",
    "        arr.pop()\n",
    "        index+=1\n",
    "        if index > len(folds)-1:\n",
    "            index=0   \n",
    "    FOLDS = []\n",
    "    for key in folds.keys():\n",
    "        FOLDS.append(folds[key])\n",
    "#     print(FOLDS,K)  \n",
    "    return print_cross_val(FOLDS)"
   ]
  },
  {
   "cell_type": "markdown",
   "metadata": {},
   "source": [
    "## <a id='4'>4. Output</a>  "
   ]
  },
  {
   "cell_type": "code",
   "execution_count": 7,
   "metadata": {},
   "outputs": [
    {
     "data": {
      "text/plain": [
       "[[12, 27, 18, 17, 21, 4, 16, 9, 28, 26, 24],\n",
       " [20, 23],\n",
       " [20, 23, 12, 27, 18, 17, 21, 4, 16, 9, 28],\n",
       " [26, 24],\n",
       " [26, 24, 20, 23, 12, 27, 18, 17, 21, 4],\n",
       " [16, 9, 28],\n",
       " [16, 9, 28, 26, 24, 20, 23, 12, 27, 18],\n",
       " [17, 21, 4],\n",
       " [17, 21, 4, 16, 9, 28, 26, 24, 20, 23],\n",
       " [12, 27, 18]]"
      ]
     },
     "execution_count": 7,
     "metadata": {},
     "output_type": "execute_result"
    }
   ],
   "source": [
    "# Using Test Case 1 as our input:\n",
    "get_cross_val_split(arr_TC1, K_TC1)"
   ]
  },
  {
   "cell_type": "code",
   "execution_count": 8,
   "metadata": {},
   "outputs": [
    {
     "data": {
      "text/plain": [
       "[[12, 27, 18, 17, 21, 4, 16, 9, 28, 26, 24],\n",
       " [20, 23],\n",
       " [20, 23, 12, 27, 18, 17, 21, 4, 16, 9, 28],\n",
       " [26, 24],\n",
       " [26, 24, 20, 23, 12, 27, 18, 17, 21, 4],\n",
       " [16, 9, 28],\n",
       " [16, 9, 28, 26, 24, 20, 23, 12, 27, 18],\n",
       " [17, 21, 4],\n",
       " [17, 21, 4, 16, 9, 28, 26, 24, 20, 23],\n",
       " [12, 27, 18]]"
      ]
     },
     "execution_count": 8,
     "metadata": {},
     "output_type": "execute_result"
    }
   ],
   "source": [
    "# Using Test Case 2 as our input:\n",
    "get_cross_val_split(arr_TC1, K_TC1)"
   ]
  },
  {
   "cell_type": "code",
   "execution_count": 9,
   "metadata": {},
   "outputs": [
    {
     "data": {
      "text/plain": [
       "[[12, 27, 18, 17, 21, 4, 16, 9, 28, 26, 24],\n",
       " [20, 23],\n",
       " [20, 23, 12, 27, 18, 17, 21, 4, 16, 9, 28],\n",
       " [26, 24],\n",
       " [26, 24, 20, 23, 12, 27, 18, 17, 21, 4],\n",
       " [16, 9, 28],\n",
       " [16, 9, 28, 26, 24, 20, 23, 12, 27, 18],\n",
       " [17, 21, 4],\n",
       " [17, 21, 4, 16, 9, 28, 26, 24, 20, 23],\n",
       " [12, 27, 18]]"
      ]
     },
     "execution_count": 9,
     "metadata": {},
     "output_type": "execute_result"
    }
   ],
   "source": [
    "# Using Test Case 3 as our input:\n",
    "get_cross_val_split(arr_TC1, K_TC1)"
   ]
  }
 ],
 "metadata": {
  "kernelspec": {
   "display_name": "Python 3",
   "language": "python",
   "name": "python3"
  },
  "language_info": {
   "codemirror_mode": {
    "name": "ipython",
    "version": 3
   },
   "file_extension": ".py",
   "mimetype": "text/x-python",
   "name": "python",
   "nbconvert_exporter": "python",
   "pygments_lexer": "ipython3",
   "version": "3.8.3"
  }
 },
 "nbformat": 4,
 "nbformat_minor": 4
}
